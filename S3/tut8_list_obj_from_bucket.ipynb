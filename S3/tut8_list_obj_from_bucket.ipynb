{
 "cells": [
  {
   "cell_type": "code",
   "execution_count": 1,
   "id": "eaaf9618-1aba-4f8d-aac3-dc334fcb2e2c",
   "metadata": {},
   "outputs": [],
   "source": [
    "import boto3"
   ]
  },
  {
   "cell_type": "code",
   "execution_count": 12,
   "id": "65e29170-cb53-4e49-a523-2df8d297307d",
   "metadata": {},
   "outputs": [
    {
     "ename": "TypeError",
     "evalue": "'S3' object is not subscriptable",
     "output_type": "error",
     "traceback": [
      "\u001b[0;31m---------------------------------------------------------------------------\u001b[0m",
      "\u001b[0;31mTypeError\u001b[0m                                 Traceback (most recent call last)",
      "Input \u001b[0;32mIn [12]\u001b[0m, in \u001b[0;36m<cell line: 1>\u001b[0;34m()\u001b[0m\n\u001b[0;32m----> 1\u001b[0m s3_resource \u001b[38;5;241m=\u001b[39m \u001b[43mboto3\u001b[49m\u001b[38;5;241;43m.\u001b[39;49m\u001b[43mclient\u001b[49m\u001b[43m(\u001b[49m\u001b[38;5;124;43m'\u001b[39;49m\u001b[38;5;124;43ms3\u001b[39;49m\u001b[38;5;124;43m'\u001b[39;49m\u001b[43m)\u001b[49m\u001b[43m[\u001b[49m\u001b[38;5;124;43m'\u001b[39;49m\u001b[38;5;124;43mContents\u001b[39;49m\u001b[38;5;124;43m'\u001b[39;49m\u001b[43m]\u001b[49m\n",
      "\u001b[0;31mTypeError\u001b[0m: 'S3' object is not subscriptable"
     ]
    }
   ],
   "source": [
    "s3_resource = boto3.client('s3')"
   ]
  },
  {
   "cell_type": "code",
   "execution_count": 13,
   "id": "56035363-67fb-46a2-be80-f9614bb3efe6",
   "metadata": {},
   "outputs": [],
   "source": [
    "objects = s3_resource.list_objects_v2(\n",
    "      Bucket='nvson5'\n",
    ")['Contents']"
   ]
  },
  {
   "cell_type": "code",
   "execution_count": 16,
   "id": "aea9135d-d68d-4858-ae51-9bc7cff5f57d",
   "metadata": {},
   "outputs": [
    {
     "name": "stdout",
     "output_type": "stream",
     "text": [
      "objects exits\n"
     ]
    }
   ],
   "source": [
    "if len(objects) > 0:\n",
    "    print(\"objects exits\")"
   ]
  },
  {
   "cell_type": "code",
   "execution_count": 17,
   "id": "b8a72466-7857-45ad-bae0-30cf058be83f",
   "metadata": {},
   "outputs": [
    {
     "name": "stdout",
     "output_type": "stream",
     "text": [
      "{'Key': 'image1.jpeg', 'LastModified': datetime.datetime(2022, 7, 14, 4, 43, 50, tzinfo=tzutc()), 'ETag': '\"c3889ac8804f800a68d189e8f0aecbbe\"', 'Size': 67800, 'StorageClass': 'STANDARD'}\n",
      "{'Key': 'image2.jpeg', 'LastModified': datetime.datetime(2022, 7, 14, 4, 43, 52, tzinfo=tzutc()), 'ETag': '\"d009e41055b46c37991913f9513e59ec\"', 'Size': 124814, 'StorageClass': 'STANDARD'}\n",
      "{'Key': 'image3.jpeg', 'LastModified': datetime.datetime(2022, 7, 14, 4, 43, 53, tzinfo=tzutc()), 'ETag': '\"ace5a28bee85fb9a792ce55857033e48\"', 'Size': 241514, 'StorageClass': 'STANDARD'}\n",
      "{'Key': 'linux_at_aws.jpeg', 'LastModified': datetime.datetime(2022, 7, 14, 4, 42, 44, tzinfo=tzutc()), 'ETag': '\"ace5a28bee85fb9a792ce55857033e48\"', 'Size': 241514, 'StorageClass': 'STANDARD'}\n",
      "{'Key': 'z3530124762086_667e1192fb34ee0888b327062733884f.jpg', 'LastModified': datetime.datetime(2022, 7, 14, 3, 30, 1, tzinfo=tzutc()), 'ETag': '\"010571a4febae14c75a1a29a88a585d3\"', 'Size': 245613, 'StorageClass': 'STANDARD'}\n"
     ]
    }
   ],
   "source": [
    "for object in objects:\n",
    "    print(object)"
   ]
  },
  {
   "cell_type": "code",
   "execution_count": null,
   "id": "648a4b41-b514-41ec-8ff0-0aad61748c55",
   "metadata": {},
   "outputs": [],
   "source": []
  }
 ],
 "metadata": {
  "kernelspec": {
   "display_name": "Python 3 (ipykernel)",
   "language": "python",
   "name": "python3"
  },
  "language_info": {
   "codemirror_mode": {
    "name": "ipython",
    "version": 3
   },
   "file_extension": ".py",
   "mimetype": "text/x-python",
   "name": "python",
   "nbconvert_exporter": "python",
   "pygments_lexer": "ipython3",
   "version": "3.9.13"
  }
 },
 "nbformat": 4,
 "nbformat_minor": 5
}
