{
 "cells": [
  {
   "cell_type": "code",
   "execution_count": 4,
   "id": "2ae2804b-b9a9-4217-97ad-41598a6a368f",
   "metadata": {},
   "outputs": [],
   "source": [
    "import os\n",
    "import boto3"
   ]
  },
  {
   "cell_type": "code",
   "execution_count": 2,
   "id": "7f4b5a4d-9215-41c0-bb00-3acfa731c8bd",
   "metadata": {},
   "outputs": [],
   "source": [
    "cwd = os.getcwd()"
   ]
  },
  {
   "cell_type": "code",
   "execution_count": 3,
   "id": "928cc8c5-248c-44c7-87c5-f6c98a9c6185",
   "metadata": {},
   "outputs": [
    {
     "data": {
      "text/plain": [
       "'/Users/sonnguyen/AWS/secondApp'"
      ]
     },
     "execution_count": 3,
     "metadata": {},
     "output_type": "execute_result"
    }
   ],
   "source": [
    "cwd"
   ]
  },
  {
   "cell_type": "code",
   "execution_count": 5,
   "id": "a8c2546c-2734-438b-8340-27d8beb1416c",
   "metadata": {},
   "outputs": [],
   "source": [
    "s3_resource = boto3.client('s3')"
   ]
  },
  {
   "cell_type": "code",
   "execution_count": 11,
   "id": "258c1a55-4ed5-46de-bea0-f71fffa27366",
   "metadata": {},
   "outputs": [],
   "source": [
    "files = s3_resource.list_objects_v2(Bucket='nvson5')['Contents']"
   ]
  },
  {
   "cell_type": "code",
   "execution_count": 12,
   "id": "0b65a8b2-be2e-40ca-a9e3-5f064077432c",
   "metadata": {},
   "outputs": [
    {
     "data": {
      "text/plain": [
       "[{'Key': 'image1.jpeg',\n",
       "  'LastModified': datetime.datetime(2022, 7, 14, 4, 43, 50, tzinfo=tzutc()),\n",
       "  'ETag': '\"c3889ac8804f800a68d189e8f0aecbbe\"',\n",
       "  'Size': 67800,\n",
       "  'StorageClass': 'STANDARD'},\n",
       " {'Key': 'image3.jpeg',\n",
       "  'LastModified': datetime.datetime(2022, 7, 14, 4, 43, 53, tzinfo=tzutc()),\n",
       "  'ETag': '\"ace5a28bee85fb9a792ce55857033e48\"',\n",
       "  'Size': 241514,\n",
       "  'StorageClass': 'STANDARD'},\n",
       " {'Key': 'linux_at_aws.jpeg',\n",
       "  'LastModified': datetime.datetime(2022, 7, 14, 4, 42, 44, tzinfo=tzutc()),\n",
       "  'ETag': '\"ace5a28bee85fb9a792ce55857033e48\"',\n",
       "  'Size': 241514,\n",
       "  'StorageClass': 'STANDARD'}]"
      ]
     },
     "execution_count": 12,
     "metadata": {},
     "output_type": "execute_result"
    }
   ],
   "source": [
    "files"
   ]
  },
  {
   "cell_type": "code",
   "execution_count": 19,
   "id": "52bc0023-8963-4ab0-9058-94cb2c25b0ad",
   "metadata": {},
   "outputs": [],
   "source": [
    "for file in files:\n",
    "    s3_resource.download_file(\n",
    "        Bucket='nvson5',\n",
    "        Key=file['Key'],\n",
    "        Filename=f\"{cwd}/download/download_{file['Key']}\"\n",
    "    )"
   ]
  },
  {
   "cell_type": "code",
   "execution_count": null,
   "id": "76a32e61-f54e-42e6-807f-d46cfdbc99a5",
   "metadata": {},
   "outputs": [],
   "source": []
  }
 ],
 "metadata": {
  "kernelspec": {
   "display_name": "Python 3 (ipykernel)",
   "language": "python",
   "name": "python3"
  },
  "language_info": {
   "codemirror_mode": {
    "name": "ipython",
    "version": 3
   },
   "file_extension": ".py",
   "mimetype": "text/x-python",
   "name": "python",
   "nbconvert_exporter": "python",
   "pygments_lexer": "ipython3",
   "version": "3.9.13"
  }
 },
 "nbformat": 4,
 "nbformat_minor": 5
}
