{
 "cells": [
  {
   "cell_type": "code",
   "execution_count": 25,
   "id": "11cea9e7-2d9a-4f73-a47f-6da1736d48a7",
   "metadata": {},
   "outputs": [],
   "source": [
    "# Upload 1 ảnh"
   ]
  },
  {
   "cell_type": "code",
   "execution_count": 1,
   "id": "0dbc1c7b-79e6-41bf-9d88-144b333c5173",
   "metadata": {},
   "outputs": [],
   "source": [
    "import boto3"
   ]
  },
  {
   "cell_type": "code",
   "execution_count": 2,
   "id": "db1afa85-49b0-4c7e-b012-c47f34156c0a",
   "metadata": {},
   "outputs": [],
   "source": [
    "s3_resource=boto3.client(\"s3\")"
   ]
  },
  {
   "cell_type": "code",
   "execution_count": 5,
   "id": "9c6b39c6-a5a9-44eb-b39c-ba23df775f53",
   "metadata": {},
   "outputs": [],
   "source": [
    "s3_resource.upload_file(\n",
    "    Filename=\"linux.jpeg\",\n",
    "    Bucket=\"nvson5\",\n",
    "    Key=\"linux_at_aws.jpeg\"\n",
    ")"
   ]
  },
  {
   "cell_type": "code",
   "execution_count": 26,
   "id": "f583edaa-88ac-40f6-b4a7-1c5699a1f513",
   "metadata": {},
   "outputs": [],
   "source": [
    "# Upload nhiều ảnh từ 1 folder"
   ]
  },
  {
   "cell_type": "code",
   "execution_count": 6,
   "id": "a6751961-7269-4392-ba21-f8622013620c",
   "metadata": {},
   "outputs": [],
   "source": [
    "import os\n",
    "import glob"
   ]
  },
  {
   "cell_type": "code",
   "execution_count": 7,
   "id": "0251b324-cd74-46e0-910f-9dbee1a51411",
   "metadata": {},
   "outputs": [],
   "source": [
    "cwd = os.getcwd()"
   ]
  },
  {
   "cell_type": "code",
   "execution_count": 13,
   "id": "a4d14608-11a7-4237-80da-2158031c1db1",
   "metadata": {},
   "outputs": [],
   "source": [
    "image_folder_path = f\"{cwd}/upload/\""
   ]
  },
  {
   "cell_type": "code",
   "execution_count": 14,
   "id": "5ad4415a-2e5d-4411-8ca9-40eb09f624e0",
   "metadata": {},
   "outputs": [
    {
     "data": {
      "text/plain": [
       "'/Users/sonnguyen/AWS/secondApp/upload/'"
      ]
     },
     "execution_count": 14,
     "metadata": {},
     "output_type": "execute_result"
    }
   ],
   "source": [
    "image_folder_path"
   ]
  },
  {
   "cell_type": "code",
   "execution_count": 20,
   "id": "97459093-92ce-44f2-91b6-5afa992bc06a",
   "metadata": {},
   "outputs": [],
   "source": [
    "files = glob.glob(f\"{image_folder_path}*.jpeg\")"
   ]
  },
  {
   "cell_type": "code",
   "execution_count": 22,
   "id": "46589917-22e9-4f3a-8684-edada21a1cba",
   "metadata": {},
   "outputs": [
    {
     "data": {
      "text/plain": [
       "['/Users/sonnguyen/AWS/secondApp/upload/image1.jpeg',\n",
       " '/Users/sonnguyen/AWS/secondApp/upload/image2.jpeg',\n",
       " '/Users/sonnguyen/AWS/secondApp/upload/image3.jpeg']"
      ]
     },
     "execution_count": 22,
     "metadata": {},
     "output_type": "execute_result"
    }
   ],
   "source": [
    "files"
   ]
  },
  {
   "cell_type": "code",
   "execution_count": 24,
   "id": "6d207c08-776f-41e8-a418-dbad56f0efc8",
   "metadata": {},
   "outputs": [],
   "source": [
    "for file in files:\n",
    "    s3_resource = boto3.client(\"s3\")\n",
    "    s3_resource.upload_file(\n",
    "    Filename=file,\n",
    "    Bucket=\"nvson5\",\n",
    "    Key=file.split(\"/\")[-1]\n",
    ")"
   ]
  }
 ],
 "metadata": {
  "kernelspec": {
   "display_name": "Python 3 (ipykernel)",
   "language": "python",
   "name": "python3"
  },
  "language_info": {
   "codemirror_mode": {
    "name": "ipython",
    "version": 3
   },
   "file_extension": ".py",
   "mimetype": "text/x-python",
   "name": "python",
   "nbconvert_exporter": "python",
   "pygments_lexer": "ipython3",
   "version": "3.9.13"
  }
 },
 "nbformat": 4,
 "nbformat_minor": 5
}
