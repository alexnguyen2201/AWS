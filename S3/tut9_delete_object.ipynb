{
 "cells": [
  {
   "cell_type": "code",
   "execution_count": 1,
   "id": "a47822b7-3b5c-46a3-ab94-c22b0104b239",
   "metadata": {},
   "outputs": [],
   "source": [
    "import boto3"
   ]
  },
  {
   "cell_type": "code",
   "execution_count": 2,
   "id": "6ac6870e-085e-42a8-9ecd-d80c32456553",
   "metadata": {},
   "outputs": [],
   "source": [
    "s3_resource = boto3.client('s3')"
   ]
  },
  {
   "cell_type": "code",
   "execution_count": 5,
   "id": "229f2a81-a56b-4f6e-909b-53ec166c1711",
   "metadata": {},
   "outputs": [
    {
     "data": {
      "text/plain": [
       "{'ResponseMetadata': {'RequestId': 'C7K11JY9FCA7Z0RR',\n",
       "  'HostId': 'Bn3M91viELsTYnRewuA+CR+krVQlJ1tRH+ASAyf4v39ue142KtLG45fk8lWO5iDHJl3i/GgJYDo=',\n",
       "  'HTTPStatusCode': 204,\n",
       "  'HTTPHeaders': {'x-amz-id-2': 'Bn3M91viELsTYnRewuA+CR+krVQlJ1tRH+ASAyf4v39ue142KtLG45fk8lWO5iDHJl3i/GgJYDo=',\n",
       "   'x-amz-request-id': 'C7K11JY9FCA7Z0RR',\n",
       "   'date': 'Thu, 14 Jul 2022 06:11:33 GMT',\n",
       "   'server': 'AmazonS3'},\n",
       "  'RetryAttempts': 0}}"
      ]
     },
     "execution_count": 5,
     "metadata": {},
     "output_type": "execute_result"
    }
   ],
   "source": [
    "s3_resource.delete_object(Bucket='nvson5', Key='image2.jpeg')"
   ]
  },
  {
   "cell_type": "code",
   "execution_count": 16,
   "id": "ae079ba5-c91c-44a3-9ba8-8b395dc22ea5",
   "metadata": {},
   "outputs": [],
   "source": [
    "objects = s3_resource.list_objects_v2(Bucket='nvson5')['Contents']"
   ]
  },
  {
   "cell_type": "code",
   "execution_count": 17,
   "id": "5b3bb7b6-2a45-40e6-be6d-dc61aa7cac4a",
   "metadata": {},
   "outputs": [
    {
     "data": {
      "text/plain": [
       "3"
      ]
     },
     "execution_count": 17,
     "metadata": {},
     "output_type": "execute_result"
    }
   ],
   "source": [
    "len(objects)"
   ]
  },
  {
   "cell_type": "code",
   "execution_count": 18,
   "id": "3cd58b41-c838-48ed-a977-ab6c43598b1c",
   "metadata": {},
   "outputs": [
    {
     "name": "stdout",
     "output_type": "stream",
     "text": [
      "image1.jpeg\n",
      "image3.jpeg\n",
      "linux_at_aws.jpeg\n"
     ]
    }
   ],
   "source": [
    "for object in objects:\n",
    "    print(object['Key'])\n"
   ]
  },
  {
   "cell_type": "code",
   "execution_count": null,
   "id": "8be5f986-50bd-465c-a1b4-3d471c80e1b3",
   "metadata": {},
   "outputs": [],
   "source": []
  }
 ],
 "metadata": {
  "kernelspec": {
   "display_name": "Python 3 (ipykernel)",
   "language": "python",
   "name": "python3"
  },
  "language_info": {
   "codemirror_mode": {
    "name": "ipython",
    "version": 3
   },
   "file_extension": ".py",
   "mimetype": "text/x-python",
   "name": "python",
   "nbconvert_exporter": "python",
   "pygments_lexer": "ipython3",
   "version": "3.9.13"
  }
 },
 "nbformat": 4,
 "nbformat_minor": 5
}
