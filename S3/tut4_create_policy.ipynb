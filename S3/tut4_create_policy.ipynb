{
 "cells": [
  {
   "cell_type": "code",
   "execution_count": 20,
   "id": "38db18be-69ca-48e3-9d6b-6aa5368310a3",
   "metadata": {},
   "outputs": [],
   "source": [
    "# Khi tạo Policy như json dưới thì sẽ chuyển bucket sang dạng public"
   ]
  },
  {
   "cell_type": "code",
   "execution_count": 16,
   "id": "691d0ea1-4a10-4b56-a794-4a159003ccc5",
   "metadata": {},
   "outputs": [],
   "source": [
    "import boto3\n",
    "import json"
   ]
  },
  {
   "cell_type": "code",
   "execution_count": null,
   "id": "e5f311cf-3445-4161-b4bd-18d9fa6acc2c",
   "metadata": {},
   "outputs": [],
   "source": [
    "s3_resource.put_bucket_policy??"
   ]
  },
  {
   "cell_type": "code",
   "execution_count": 12,
   "id": "0b63c03f-3dd7-4599-8837-5361635253a9",
   "metadata": {},
   "outputs": [],
   "source": [
    "s3_resource=boto3.client(\"s3\")"
   ]
  },
  {
   "cell_type": "code",
   "execution_count": 14,
   "id": "e8ca2ccf-a6a5-4508-a784-7723fd1fb23d",
   "metadata": {},
   "outputs": [],
   "source": [
    "bucket_policy = {\n",
    "  \"Id\": \"Policy1657769741968\",\n",
    "  \"Version\": \"2012-10-17\",\n",
    "  \"Statement\": [\n",
    "    {\n",
    "      \"Sid\": \"Stmt1657769735214\",\n",
    "      \"Action\": [\n",
    "        \"s3:GetObject\"\n",
    "      ],\n",
    "      \"Effect\": \"Allow\",\n",
    "      \"Resource\": \"arn:aws:s3:::nvson5/*\",\n",
    "      \"Principal\": \"*\"\n",
    "    }\n",
    "  ]\n",
    "}"
   ]
  },
  {
   "cell_type": "code",
   "execution_count": 18,
   "id": "d2a7bef4-3867-4d32-a4a8-b884a9faead9",
   "metadata": {},
   "outputs": [],
   "source": [
    "bucket_policy = json.dumps(bucket_policy)"
   ]
  },
  {
   "cell_type": "code",
   "execution_count": 19,
   "id": "6e7a3c1d-0998-42eb-b07f-d231e4076a3c",
   "metadata": {},
   "outputs": [
    {
     "data": {
      "text/plain": [
       "{'ResponseMetadata': {'RequestId': 'T2VARW4V4DE35S6A',\n",
       "  'HostId': 'jkuHnWsFLafxAZBN4LYNO1Ms5r+fEnXakSDUlvJUyDLQo++Um77WXHUWGg7rxvx/G14VKf6zvyw=',\n",
       "  'HTTPStatusCode': 204,\n",
       "  'HTTPHeaders': {'x-amz-id-2': 'jkuHnWsFLafxAZBN4LYNO1Ms5r+fEnXakSDUlvJUyDLQo++Um77WXHUWGg7rxvx/G14VKf6zvyw=',\n",
       "   'x-amz-request-id': 'T2VARW4V4DE35S6A',\n",
       "   'date': 'Thu, 14 Jul 2022 03:54:58 GMT',\n",
       "   'server': 'AmazonS3'},\n",
       "  'RetryAttempts': 0}}"
      ]
     },
     "execution_count": 19,
     "metadata": {},
     "output_type": "execute_result"
    }
   ],
   "source": [
    "s3_resource.put_bucket_policy(Bucket=\"nvson5\",Policy=bucket_policy)"
   ]
  },
  {
   "cell_type": "code",
   "execution_count": null,
   "id": "c8ca7427-6b9e-49f4-ac9a-481c2f7c97cf",
   "metadata": {},
   "outputs": [],
   "source": []
  },
  {
   "cell_type": "code",
   "execution_count": null,
   "id": "b9f877ce-1d0f-44bf-967b-1cfabedc0770",
   "metadata": {},
   "outputs": [],
   "source": []
  }
 ],
 "metadata": {
  "kernelspec": {
   "display_name": "Python 3 (ipykernel)",
   "language": "python",
   "name": "python3"
  },
  "language_info": {
   "codemirror_mode": {
    "name": "ipython",
    "version": 3
   },
   "file_extension": ".py",
   "mimetype": "text/x-python",
   "name": "python",
   "nbconvert_exporter": "python",
   "pygments_lexer": "ipython3",
   "version": "3.9.13"
  }
 },
 "nbformat": 4,
 "nbformat_minor": 5
}
