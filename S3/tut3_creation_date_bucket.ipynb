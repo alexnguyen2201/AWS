{
 "cells": [
  {
   "cell_type": "code",
   "execution_count": 1,
   "id": "5c54c570-163d-4d86-a5a4-a1743a175ead",
   "metadata": {},
   "outputs": [],
   "source": [
    "import boto3"
   ]
  },
  {
   "cell_type": "code",
   "execution_count": 2,
   "id": "bebcb46a-eeb7-414b-87d0-c775f9ca1030",
   "metadata": {},
   "outputs": [
    {
     "data": {
      "text/plain": [
       "\u001b[0;31mSignature:\u001b[0m \u001b[0mboto3\u001b[0m\u001b[0;34m.\u001b[0m\u001b[0mclient\u001b[0m\u001b[0;34m(\u001b[0m\u001b[0;34m*\u001b[0m\u001b[0margs\u001b[0m\u001b[0;34m,\u001b[0m \u001b[0;34m**\u001b[0m\u001b[0mkwargs\u001b[0m\u001b[0;34m)\u001b[0m\u001b[0;34m\u001b[0m\u001b[0;34m\u001b[0m\u001b[0m\n",
       "\u001b[0;31mSource:\u001b[0m   \n",
       "\u001b[0;32mdef\u001b[0m \u001b[0mclient\u001b[0m\u001b[0;34m(\u001b[0m\u001b[0;34m*\u001b[0m\u001b[0margs\u001b[0m\u001b[0;34m,\u001b[0m \u001b[0;34m**\u001b[0m\u001b[0mkwargs\u001b[0m\u001b[0;34m)\u001b[0m\u001b[0;34m:\u001b[0m\u001b[0;34m\u001b[0m\n",
       "\u001b[0;34m\u001b[0m    \u001b[0;34m\"\"\"\u001b[0m\n",
       "\u001b[0;34m    Create a low-level service client by name using the default session.\u001b[0m\n",
       "\u001b[0;34m\u001b[0m\n",
       "\u001b[0;34m    See :py:meth:`boto3.session.Session.client`.\u001b[0m\n",
       "\u001b[0;34m    \"\"\"\u001b[0m\u001b[0;34m\u001b[0m\n",
       "\u001b[0;34m\u001b[0m    \u001b[0;32mreturn\u001b[0m \u001b[0m_get_default_session\u001b[0m\u001b[0;34m(\u001b[0m\u001b[0;34m)\u001b[0m\u001b[0;34m.\u001b[0m\u001b[0mclient\u001b[0m\u001b[0;34m(\u001b[0m\u001b[0;34m*\u001b[0m\u001b[0margs\u001b[0m\u001b[0;34m,\u001b[0m \u001b[0;34m**\u001b[0m\u001b[0mkwargs\u001b[0m\u001b[0;34m)\u001b[0m\u001b[0;34m\u001b[0m\u001b[0;34m\u001b[0m\u001b[0m\n",
       "\u001b[0;31mFile:\u001b[0m      ~/homebrew/lib/python3.9/site-packages/boto3/__init__.py\n",
       "\u001b[0;31mType:\u001b[0m      function\n"
      ]
     },
     "metadata": {},
     "output_type": "display_data"
    }
   ],
   "source": [
    "s3_resource=boto3.client??"
   ]
  },
  {
   "cell_type": "code",
   "execution_count": 4,
   "id": "42bfd0e2-7bd1-4c11-ac15-3db20ba4b978",
   "metadata": {},
   "outputs": [],
   "source": [
    "s3_resource=boto3.client(\"s3\")"
   ]
  },
  {
   "cell_type": "code",
   "execution_count": 9,
   "id": "c66428ef-72f3-4c8c-9e53-e19b99063bcc",
   "metadata": {},
   "outputs": [
    {
     "data": {
      "text/plain": [
       "'nvson5'"
      ]
     },
     "execution_count": 9,
     "metadata": {},
     "output_type": "execute_result"
    }
   ],
   "source": [
    "s3_resource.list_buckets()[\"Buckets\"][0][\"Name\"]"
   ]
  },
  {
   "cell_type": "code",
   "execution_count": 13,
   "id": "ff47fba2-878f-4deb-8879-bf79553101b7",
   "metadata": {},
   "outputs": [],
   "source": [
    "creation_date = s3_resource.list_buckets()[\"Buckets\"][0][\"CreationDate\"]"
   ]
  },
  {
   "cell_type": "code",
   "execution_count": 20,
   "id": "c7bc17c5-d2a5-4f39-9725-2ab19a227639",
   "metadata": {},
   "outputs": [
    {
     "data": {
      "text/plain": [
       "'14/07/22 01:47:1657738064'"
      ]
     },
     "execution_count": 20,
     "metadata": {},
     "output_type": "execute_result"
    }
   ],
   "source": [
    "creation_date.strftime(\"%d/%m/%y %H:%M:%s\")"
   ]
  },
  {
   "cell_type": "code",
   "execution_count": 23,
   "id": "6762f532-642a-475c-b1c6-1e672f4d9f93",
   "metadata": {},
   "outputs": [
    {
     "name": "stdout",
     "output_type": "stream",
     "text": [
      "nvson5\n",
      "2022-07-14 01:47:44+00:00\n",
      "nvson6\n",
      "2022-07-14 02:30:41+00:00\n"
     ]
    }
   ],
   "source": [
    "for bucket in s3_resource.list_buckets()[\"Buckets\"]:\n",
    "    print(bucket[\"Name\"])\n",
    "    print(bucket[\"CreationDate\"])    "
   ]
  },
  {
   "cell_type": "code",
   "execution_count": null,
   "id": "cb88ba8d-68c8-44ef-8261-4bba5ef3a59f",
   "metadata": {},
   "outputs": [],
   "source": []
  }
 ],
 "metadata": {
  "kernelspec": {
   "display_name": "Python 3 (ipykernel)",
   "language": "python",
   "name": "python3"
  },
  "language_info": {
   "codemirror_mode": {
    "name": "ipython",
    "version": 3
   },
   "file_extension": ".py",
   "mimetype": "text/x-python",
   "name": "python",
   "nbconvert_exporter": "python",
   "pygments_lexer": "ipython3",
   "version": "3.9.13"
  }
 },
 "nbformat": 4,
 "nbformat_minor": 5
}
