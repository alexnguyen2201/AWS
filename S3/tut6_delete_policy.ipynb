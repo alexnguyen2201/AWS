{
 "cells": [
  {
   "cell_type": "code",
   "execution_count": 1,
   "id": "e1e1fc3a-7fa3-4130-94a9-451c758e53dc",
   "metadata": {},
   "outputs": [],
   "source": [
    "import boto3"
   ]
  },
  {
   "cell_type": "code",
   "execution_count": 2,
   "id": "ffa0f6e5-78ea-4e38-a9f9-558c734e14d7",
   "metadata": {},
   "outputs": [],
   "source": [
    "s3_resource=boto3.client(\"s3\")"
   ]
  },
  {
   "cell_type": "code",
   "execution_count": 3,
   "id": "2963f297-c6b1-49e2-8c20-55f2ac7ab008",
   "metadata": {},
   "outputs": [
    {
     "data": {
      "text/plain": [
       "{'ResponseMetadata': {'RequestId': 'JECBTBRZGR5AED54',\n",
       "  'HostId': 'MIVfnObwfs+d6TUJKH7MjjkmCCuvtPAgWXnur72WNJbSJlUikK5ltJIvzT3dCnP2SrhozaDRi/A=',\n",
       "  'HTTPStatusCode': 204,\n",
       "  'HTTPHeaders': {'x-amz-id-2': 'MIVfnObwfs+d6TUJKH7MjjkmCCuvtPAgWXnur72WNJbSJlUikK5ltJIvzT3dCnP2SrhozaDRi/A=',\n",
       "   'x-amz-request-id': 'JECBTBRZGR5AED54',\n",
       "   'date': 'Thu, 14 Jul 2022 04:18:39 GMT',\n",
       "   'server': 'AmazonS3'},\n",
       "  'RetryAttempts': 0}}"
      ]
     },
     "execution_count": 3,
     "metadata": {},
     "output_type": "execute_result"
    }
   ],
   "source": [
    "s3_resource.delete_bucket_policy(Bucket=\"nvson5\")"
   ]
  },
  {
   "cell_type": "code",
   "execution_count": null,
   "id": "331c9f65-9235-4fba-9354-a7e30d9c4cf4",
   "metadata": {},
   "outputs": [],
   "source": []
  }
 ],
 "metadata": {
  "kernelspec": {
   "display_name": "Python 3 (ipykernel)",
   "language": "python",
   "name": "python3"
  },
  "language_info": {
   "codemirror_mode": {
    "name": "ipython",
    "version": 3
   },
   "file_extension": ".py",
   "mimetype": "text/x-python",
   "name": "python",
   "nbconvert_exporter": "python",
   "pygments_lexer": "ipython3",
   "version": "3.9.13"
  }
 },
 "nbformat": 4,
 "nbformat_minor": 5
}
